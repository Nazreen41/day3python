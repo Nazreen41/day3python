{
 "cells": [
  {
   "cell_type": "code",
   "execution_count": 1,
   "id": "4f78eda2",
   "metadata": {},
   "outputs": [
    {
     "name": "stdout",
     "output_type": "stream",
     "text": [
      "python\n"
     ]
    }
   ],
   "source": [
    "print('python')"
   ]
  },
  {
   "cell_type": "code",
   "execution_count": 2,
   "id": "edfdfa06",
   "metadata": {},
   "outputs": [
    {
     "name": "stdout",
     "output_type": "stream",
     "text": [
      "\tpython\n"
     ]
    }
   ],
   "source": [
    "print('\\tpython')"
   ]
  },
  {
   "cell_type": "code",
   "execution_count": 3,
   "id": "870b8874",
   "metadata": {},
   "outputs": [
    {
     "name": "stdout",
     "output_type": "stream",
     "text": [
      "languages:\n",
      "python\n",
      "java\n",
      "sql\n",
      "vb\n"
     ]
    }
   ],
   "source": [
    "print('languages:\\npython\\njava\\nsql\\nvb')"
   ]
  },
  {
   "cell_type": "code",
   "execution_count": 4,
   "id": "98e410eb",
   "metadata": {},
   "outputs": [
    {
     "name": "stdout",
     "output_type": "stream",
     "text": [
      "languages:\n",
      "\tpython\n",
      "\tjava\n",
      "\tsql\n",
      "\tvb\n"
     ]
    }
   ],
   "source": [
    "print('languages:\\n\\tpython\\n\\tjava\\n\\tsql\\n\\tvb')"
   ]
  },
  {
   "cell_type": "code",
   "execution_count": 19,
   "id": "22647031",
   "metadata": {},
   "outputs": [],
   "source": [
    "fav_sub='python'"
   ]
  },
  {
   "cell_type": "code",
   "execution_count": 9,
   "id": "acaf7b27",
   "metadata": {},
   "outputs": [
    {
     "name": "stdout",
     "output_type": "stream",
     "text": [
      "python\n"
     ]
    }
   ],
   "source": [
    "print(fav_sub)"
   ]
  },
  {
   "cell_type": "code",
   "execution_count": 10,
   "id": "31093d7a",
   "metadata": {},
   "outputs": [
    {
     "name": "stdout",
     "output_type": "stream",
     "text": [
      "python\n"
     ]
    }
   ],
   "source": [
    "print(fav_sub.rstrip())"
   ]
  },
  {
   "cell_type": "code",
   "execution_count": 20,
   "id": "32b583c8",
   "metadata": {},
   "outputs": [],
   "source": [
    "student=['nazreen','shravs','sweety','chotu']"
   ]
  },
  {
   "cell_type": "code",
   "execution_count": 21,
   "id": "551f8f35",
   "metadata": {},
   "outputs": [
    {
     "name": "stdout",
     "output_type": "stream",
     "text": [
      "['nazreen', 'shravs', 'sweety', 'chotu']\n"
     ]
    }
   ],
   "source": [
    "print(student)"
   ]
  },
  {
   "cell_type": "code",
   "execution_count": 22,
   "id": "ff055b5b",
   "metadata": {},
   "outputs": [
    {
     "name": "stdout",
     "output_type": "stream",
     "text": [
      "sweety\n"
     ]
    }
   ],
   "source": [
    "print(student[2])"
   ]
  },
  {
   "cell_type": "code",
   "execution_count": 23,
   "id": "002c0a7a",
   "metadata": {},
   "outputs": [
    {
     "name": "stdout",
     "output_type": "stream",
     "text": [
      "nazreen\n"
     ]
    }
   ],
   "source": [
    "print(student[0])"
   ]
  },
  {
   "cell_type": "code",
   "execution_count": 25,
   "id": "739db548",
   "metadata": {},
   "outputs": [
    {
     "name": "stdout",
     "output_type": "stream",
     "text": [
      "Shravs\n"
     ]
    }
   ],
   "source": [
    "print(student[1].title())"
   ]
  },
  {
   "cell_type": "code",
   "execution_count": 26,
   "id": "e6d9852f",
   "metadata": {},
   "outputs": [],
   "source": [
    "student.append('asif')"
   ]
  },
  {
   "cell_type": "code",
   "execution_count": 27,
   "id": "0c1acff8",
   "metadata": {},
   "outputs": [
    {
     "name": "stdout",
     "output_type": "stream",
     "text": [
      "['nazreen', 'shravs', 'sweety', 'chotu', 'asif']\n"
     ]
    }
   ],
   "source": [
    "print(student)"
   ]
  },
  {
   "cell_type": "code",
   "execution_count": 28,
   "id": "9d0c6182",
   "metadata": {},
   "outputs": [],
   "source": [
    "student[0]='azeeza'"
   ]
  },
  {
   "cell_type": "code",
   "execution_count": 29,
   "id": "02adb7a5",
   "metadata": {},
   "outputs": [
    {
     "name": "stdout",
     "output_type": "stream",
     "text": [
      "['azeeza', 'shravs', 'sweety', 'chotu', 'asif']\n"
     ]
    }
   ],
   "source": [
    "print(student)"
   ]
  },
  {
   "cell_type": "code",
   "execution_count": 30,
   "id": "52c2fa6a",
   "metadata": {},
   "outputs": [],
   "source": [
    "student[3]='cutie'"
   ]
  },
  {
   "cell_type": "code",
   "execution_count": 31,
   "id": "31d4aad9",
   "metadata": {},
   "outputs": [
    {
     "name": "stdout",
     "output_type": "stream",
     "text": [
      "['azeeza', 'shravs', 'sweety', 'cutie', 'asif']\n"
     ]
    }
   ],
   "source": [
    "print(student)"
   ]
  },
  {
   "cell_type": "code",
   "execution_count": 32,
   "id": "15f945bf",
   "metadata": {},
   "outputs": [
    {
     "data": {
      "text/plain": [
       "'asif'"
      ]
     },
     "execution_count": 32,
     "metadata": {},
     "output_type": "execute_result"
    }
   ],
   "source": [
    "student.pop()"
   ]
  },
  {
   "cell_type": "code",
   "execution_count": 33,
   "id": "95f0516e",
   "metadata": {},
   "outputs": [
    {
     "data": {
      "text/plain": [
       "'sweety'"
      ]
     },
     "execution_count": 33,
     "metadata": {},
     "output_type": "execute_result"
    }
   ],
   "source": [
    "student.pop(2)"
   ]
  },
  {
   "cell_type": "code",
   "execution_count": 34,
   "id": "48e09a46",
   "metadata": {},
   "outputs": [
    {
     "name": "stdout",
     "output_type": "stream",
     "text": [
      "['azeeza', 'shravs', 'cutie']\n"
     ]
    }
   ],
   "source": [
    "print(student)"
   ]
  },
  {
   "cell_type": "code",
   "execution_count": 35,
   "id": "74c5ff60",
   "metadata": {},
   "outputs": [
    {
     "name": "stdout",
     "output_type": "stream",
     "text": [
      "cutie\n"
     ]
    }
   ],
   "source": [
    "print(student[2])"
   ]
  },
  {
   "cell_type": "code",
   "execution_count": 36,
   "id": "e7df5f72",
   "metadata": {},
   "outputs": [],
   "source": [
    "a=4**3"
   ]
  },
  {
   "cell_type": "code",
   "execution_count": 37,
   "id": "4a66cd96",
   "metadata": {},
   "outputs": [
    {
     "name": "stdout",
     "output_type": "stream",
     "text": [
      "64\n"
     ]
    }
   ],
   "source": [
    "print(a)"
   ]
  },
  {
   "cell_type": "code",
   "execution_count": 38,
   "id": "c8f91960",
   "metadata": {},
   "outputs": [],
   "source": [
    "n=1.3+7"
   ]
  },
  {
   "cell_type": "code",
   "execution_count": 39,
   "id": "666f38b1",
   "metadata": {},
   "outputs": [
    {
     "name": "stdout",
     "output_type": "stream",
     "text": [
      "8.3\n"
     ]
    }
   ],
   "source": [
    "print(n)"
   ]
  },
  {
   "cell_type": "code",
   "execution_count": null,
   "id": "6e08ebb1",
   "metadata": {},
   "outputs": [],
   "source": []
  }
 ],
 "metadata": {
  "kernelspec": {
   "display_name": "Python 3",
   "language": "python",
   "name": "python3"
  },
  "language_info": {
   "codemirror_mode": {
    "name": "ipython",
    "version": 3
   },
   "file_extension": ".py",
   "mimetype": "text/x-python",
   "name": "python",
   "nbconvert_exporter": "python",
   "pygments_lexer": "ipython3",
   "version": "3.8.8"
  }
 },
 "nbformat": 4,
 "nbformat_minor": 5
}
